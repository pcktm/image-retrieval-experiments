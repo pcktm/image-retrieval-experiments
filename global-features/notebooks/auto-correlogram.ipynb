{
 "cells": [
  {
   "cell_type": "code",
   "execution_count": 1,
   "metadata": {},
   "outputs": [],
   "source": [
    "import numpy as np"
   ]
  },
  {
   "cell_type": "code",
   "execution_count": 9,
   "metadata": {},
   "outputs": [],
   "source": [
    "from numba import njit, jit\n",
    "\n",
    "@njit(fastmath=True)\n",
    "def get_n(n, x, y, color, img_no_dither, X, Y):\n",
    "    valid_vector8n = np.zeros(8 * n)\n",
    "    positive_count = 0\n",
    "    total_count = 0\n",
    "    nbrs_x = np.zeros(8 * n)\n",
    "    nbrs_y = np.zeros(8 * n)\n",
    "\n",
    "    nbrs_y[0] = y\n",
    "    d = 1\n",
    "    for k in range(1, 1 + n):\n",
    "       nbrs_y[k] = y - d\n",
    "       d = d + 1\n",
    "    \n",
    "    nbrs_y[1 + n:3 * n + 1] = y - n\n",
    "    \n",
    "    d = 0\n",
    "    for k in range(3 * n + 1, 5 * n + 1):\n",
    "       nbrs_y[k] = y - n + d\n",
    "       d = d + 1\n",
    "    \n",
    "    nbrs_y[5 * n + 1:7 * n + 1] = y + n\n",
    "    \n",
    "    d = 0\n",
    "    for k in range(7 * n + 1, 7 * n + 1 + (n - 1)):\n",
    "       nbrs_y[k] = y + n - d\n",
    "       d = d + 1\n",
    "    \n",
    "    nbrs_x[0] = x - n\n",
    "    \n",
    "    nbrs_x[1:1 + n] = x - n\n",
    "    \n",
    "    d = 0\n",
    "    for k in range(1 + n, 3 * n + 1):\n",
    "        nbrs_x[k] = x - n + d\n",
    "        d = d + 1\n",
    "    \n",
    "    nbrs_x[3 * n + 1:5 * n + 1] = x + n\n",
    "    \n",
    "    d = 0\n",
    "    for k in range(5 * n + 1, 7 * n + 1):\n",
    "        nbrs_x[k] = x + n - d\n",
    "        d = d + 1\n",
    "        \n",
    "    nbrs_x[7 * n + 1:7 * n + 1 + (n - 1)] = x - n\n",
    "    \n",
    "    for i in range(8 * n):\n",
    "        \n",
    "        if nbrs_x[i] > 0 and nbrs_x[i] <= X and nbrs_y[i] > 0 and nbrs_y[i] <= Y:\n",
    "            valid_vector8n[i] = 1\n",
    "        \n",
    "        else:\n",
    "            valid_vector8n[i] = 0\n",
    "    for j in range(8 * n):\n",
    "       if valid_vector8n[j] == 1:\n",
    "          data = img_no_dither[int(nbrs_y[j]) - 1][int(nbrs_x[j]) - 1]\n",
    "          if (data == color).all():\n",
    "              positive_count = positive_count + 1\n",
    "          total_count = total_count + 1\n",
    "    return positive_count, total_count"
   ]
  },
  {
   "cell_type": "code",
   "execution_count": 41,
   "metadata": {},
   "outputs": [],
   "source": [
    "import cv2\n",
    "\n",
    "@jit(forceobj=True)\n",
    "def fastmath_loops(img, distance_vector):\n",
    "    correlogram_vector = []\n",
    "    Y, X = img.shape[:2]\n",
    "    d = len(distance_vector)\n",
    "    count_matrix = np.zeros((256, d))\n",
    "    total_matrix = np.zeros((256, d))\n",
    "    prob_dist = np.zeros((256, d))\n",
    "    for serial_no in range(d):\n",
    "        for x in range(X):\n",
    "            for y in range(Y):\n",
    "                color = img[y, x]\n",
    "                # At the given distance\n",
    "                positive_count, total_count = get_n(distance_vector[serial_no], x, y, color, img, X, Y)\n",
    "                count_matrix[color, serial_no] += positive_count\n",
    "                total_matrix[color, serial_no] += total_count\n",
    "        prob_dist[:, serial_no] = count_matrix[:, serial_no] / (1 + total_matrix[:, serial_no])\n",
    "    print(len(correlogram_vector))\n",
    "    for serial_no in range(d):\n",
    "        correlogram_vector = np.concatenate((correlogram_vector, prob_dist[:, serial_no]))\n",
    "    return correlogram_vector\n",
    "\n",
    "def color_auto_correlogram(I, distance_vector = [1, 3]):\n",
    "    # quantize image into 64 colors = 4x4x4, in RGB space\n",
    "    img_no_dither = cv2.cvtColor(I, cv2.COLOR_BGR2RGB)\n",
    "    return fastmath_loops(img_no_dither, distance_vector)"
   ]
  },
  {
   "cell_type": "code",
   "execution_count": 13,
   "metadata": {},
   "outputs": [],
   "source": [
    "def kmeans_color_quantization(image, clusters=8, rounds=1):\n",
    "    h, w = image.shape[:2]\n",
    "    samples = np.zeros([h*w,3], dtype=np.float32)\n",
    "    count = 0\n",
    "\n",
    "    for x in range(h):\n",
    "        for y in range(w):\n",
    "            samples[count] = image[x][y]\n",
    "            count += 1\n",
    "\n",
    "    compactness, labels, centers = cv2.kmeans(samples,\n",
    "            clusters, \n",
    "            None,\n",
    "            (cv2.TERM_CRITERIA_EPS + cv2.TERM_CRITERIA_MAX_ITER, 10000, 0.0001), \n",
    "            rounds, \n",
    "            cv2.KMEANS_RANDOM_CENTERS)\n",
    "\n",
    "    centers = np.uint8(centers)\n",
    "    res = centers[labels.flatten()]\n",
    "    return res.reshape((image.shape))"
   ]
  },
  {
   "cell_type": "code",
   "execution_count": 42,
   "metadata": {},
   "outputs": [
    {
     "data": {
      "text/plain": [
       "<matplotlib.image.AxesImage at 0x7f5c007bc310>"
      ]
     },
     "execution_count": 42,
     "metadata": {},
     "output_type": "execute_result"
    },
    {
     "data": {
      "image/png": "[encoded data removed]",
      "text/plain": [
       "<Figure size 432x288 with 1 Axes>"
      ]
     },
     "metadata": {
      "needs_background": "light"
     },
     "output_type": "display_data"
    }
   ],
   "source": [
    "import matplotlib.pyplot as plt\n",
    "image = cv2.imread(\"chair.jpg\")\n",
    "reduced_image = kmeans_color_quantization(image, clusters=64)\n",
    "\n",
    "plt.imshow(reduced_image)"
   ]
  },
  {
   "cell_type": "code",
   "execution_count": 44,
   "metadata": {},
   "outputs": [
    {
     "name": "stdout",
     "output_type": "stream",
     "text": [
      "0\n",
      "[0.         0.         0.         0.         0.         0.\n",
      " 0.         0.         0.         0.         0.         0.\n",
      " 0.         0.         0.         0.         0.         0.\n",
      " 0.         0.         0.         0.         0.         0.\n",
      " 0.         0.         0.         0.         0.         0.\n",
      " 0.         0.         0.         0.         0.         0.\n",
      " 0.         0.         0.         0.         0.         0.\n",
      " 0.         0.         0.         0.         0.         0.\n",
      " 0.         0.         0.         0.         0.         0.\n",
      " 0.50359712 0.         0.         0.         0.50359712 0.\n",
      " 0.         0.         0.         0.         0.         0.\n",
      " 0.         0.         0.         0.         0.         0.\n",
      " 0.         0.         0.         0.         0.         0.\n",
      " 0.         0.         0.         0.         0.         0.\n",
      " 0.         0.         0.         0.         0.         0.\n",
      " 0.         0.         0.50047197 0.         0.         0.\n",
      " 0.         0.74467487 0.80807344 0.74467487 0.         0.\n",
      " 0.         0.         0.93089769 0.         0.         0.\n",
      " 0.         0.         0.         0.89152001 0.         0.6398641\n",
      " 0.         0.50047197 0.         0.         0.         0.91442029\n",
      " 0.         0.         0.         0.         0.57502333 0.94073718\n",
      " 0.57250421 0.69192156 0.         0.90895744 0.         0.5443428\n",
      " 0.86238327 0.         0.81762693 0.68509131 0.89976807 0.8323191\n",
      " 0.         0.         0.90170483 0.66141125 0.66141125 0.91152453\n",
      " 0.89296838 0.29455331 0.83649727 0.68384285 0.         0.82814221\n",
      " 0.         0.         0.         0.63073661 0.9343798  0.\n",
      " 0.64035043 0.64035043 0.         0.89601244 0.         0.\n",
      " 0.92885208 0.90420472 0.         0.8808848  0.31633138 0.91187229\n",
      " 0.         0.93878973 0.         0.89985563 0.89455006 0.48450982\n",
      " 0.89008612 0.89872778 0.48450982 0.85197155 0.91115124 0.55282972\n",
      " 0.91152453 0.88438379 0.         0.85795644 0.71360907 0.57881703\n",
      " 0.30062272 0.90308509 0.         0.61691081 0.92291019 0.85724908\n",
      " 0.86152237 0.86502702 0.88306035 0.57114877 0.88231556 0.90364874\n",
      " 0.55580879 0.89216401 0.87682599 0.87144222 0.87214746 0.\n",
      " 0.53396545 0.54864388 0.85904049 0.38667973 0.55259284 0.82461333\n",
      " 0.48890695 0.52359889 0.38286597 0.88730075 0.55504172 0.51517998\n",
      " 0.         0.87509747 0.         0.91531684 0.32846715 0.61932823\n",
      " 0.59930372 0.61442762 0.         0.         0.         0.61442762\n",
      " 0.79703951 0.46153846 0.79703951 0.         0.         0.79703951\n",
      " 0.32846715 0.         0.         0.32846715 0.         0.\n",
      " 0.         0.         0.         0.         0.         0.\n",
      " 0.         0.         0.         0.         0.         0.\n",
      " 0.         0.         0.         0.         0.         0.\n",
      " 0.         0.         0.         0.         0.         0.\n",
      " 0.         0.         0.         0.         0.         0.\n",
      " 0.         0.         0.         0.         0.         0.\n",
      " 0.         0.         0.         0.         0.         0.\n",
      " 0.         0.         0.         0.         0.         0.\n",
      " 0.         0.         0.         0.         0.         0.\n",
      " 0.         0.         0.         0.         0.         0.\n",
      " 0.         0.         0.         0.         0.         0.\n",
      " 0.         0.         0.         0.         0.29015375 0.\n",
      " 0.         0.         0.29015375 0.         0.         0.\n",
      " 0.         0.         0.         0.         0.         0.\n",
      " 0.         0.         0.         0.         0.         0.\n",
      " 0.         0.         0.         0.         0.         0.\n",
      " 0.         0.         0.         0.         0.         0.\n",
      " 0.         0.         0.         0.         0.         0.\n",
      " 0.3123761  0.         0.         0.         0.         0.66137417\n",
      " 0.73034015 0.66137417 0.         0.         0.         0.\n",
      " 0.90066479 0.         0.         0.         0.         0.\n",
      " 0.         0.85316775 0.         0.53583882 0.         0.3123761\n",
      " 0.         0.         0.         0.87833748 0.         0.\n",
      " 0.         0.         0.44176315 0.91504733 0.43126765 0.58933462\n",
      " 0.         0.87247782 0.         0.40637489 0.80813992 0.\n",
      " 0.75126309 0.58055967 0.85839515 0.76609172 0.         0.\n",
      " 0.86223492 0.54528031 0.54528031 0.87501624 0.85301103 0.10662758\n",
      " 0.77714558 0.57538142 0.         0.76914796 0.         0.\n",
      " 0.         0.52745824 0.90840631 0.         0.52441105 0.52441105\n",
      " 0.         0.86261777 0.         0.         0.89927949 0.8688983\n",
      " 0.         0.84063666 0.12934653 0.87804104 0.         0.91694845\n",
      " 0.         0.86165271 0.85442528 0.35168673 0.84383642 0.85706995\n",
      " 0.35168673 0.79237003 0.87585719 0.42225639 0.87501624 0.84433874\n",
      " 0.         0.80739422 0.62703977 0.46790318 0.14356276 0.86721951\n",
      " 0.         0.5131499  0.89029616 0.81291002 0.80815356 0.81347714\n",
      " 0.83865975 0.45826363 0.83715478 0.86616295 0.44039426 0.85185949\n",
      " 0.83734027 0.82532243 0.83214646 0.         0.41579893 0.42884495\n",
      " 0.81201535 0.25957488 0.42796459 0.77144997 0.35417937 0.39710879\n",
      " 0.22766921 0.85221382 0.43576683 0.3827264  0.         0.8344445\n",
      " 0.         0.88732494 0.1978022  0.50829923 0.49046803 0.50359261\n",
      " 0.         0.         0.         0.50359261 0.71925984 0.3266055\n",
      " 0.71925984 0.         0.         0.71925984 0.1978022  0.\n",
      " 0.         0.1978022  0.         0.         0.         0.\n",
      " 0.         0.         0.         0.         0.         0.\n",
      " 0.         0.         0.         0.         0.         0.\n",
      " 0.         0.        ]\n"
     ]
    }
   ],
   "source": [
    "correlogram_vector = color_auto_correlogram(reduced_image, [1, 3])\n",
    "print(correlogram_vector)"
   ]
  },
  {
   "cell_type": "code",
   "execution_count": 45,
   "metadata": {},
   "outputs": [
    {
     "data": {
      "text/plain": [
       "512"
      ]
     },
     "execution_count": 45,
     "metadata": {},
     "output_type": "execute_result"
    }
   ],
   "source": [
    "len(correlogram_vector)"
   ]
  }
 ],
 "metadata": {
  "kernelspec": {
   "display_name": "Python 3.10.7 64-bit",
   "language": "python",
   "name": "python3"
  },
  "language_info": {
   "codemirror_mode": {
    "name": "ipython",
    "version": 3
   },
   "file_extension": ".py",
   "mimetype": "text/x-python",
   "name": "python",
   "nbconvert_exporter": "python",
   "pygments_lexer": "ipython3",
   "version": "3.10.7"
  },
  "orig_nbformat": 4,
  "vscode": {
   "interpreter": {
    "hash": "e7370f93d1d0cde622a1f8e1c04877d8463912d04d973331ad4851f04de6915a"
   }
  }
 },
 "nbformat": 4,
 "nbformat_minor": 2
}
